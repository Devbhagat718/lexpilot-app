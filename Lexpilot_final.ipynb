{
  "cells": [
    {
      "cell_type": "markdown",
      "metadata": {
        "id": "wAwCK3YeDTxS"
      },
      "source": [
        "# Fine-tuning BERT on SQuAD Dataset for Question Answering with LexPilot\n",
        "\n",
        "This notebook demonstrates how to fine-tune the BERT model on the Stanford Question Answering Dataset (SQuAD) for extractive question answering as part of the **LexPilot** project.\n",
        "\n",
        "We will cover:\n",
        "\n",
        "1. Installing and importing necessary libraries  \n",
        "2. Loading and exploring the SQuAD dataset  \n",
        "3. Tokenizing and preparing features  \n",
        "4. Creating PyTorch datasets and dataloaders  \n",
        "5. Loading and fine-tuning BERT for question answering  \n",
        "6. Saving the fine-tuned model and embeddings  \n",
        "7. Defining a prediction function to answer questions  \n",
        "8. Visualizing token embedding similarities using a cosine similarity heatmap  \n",
        "\n",
        "---\n",
        "\n",
        "## 1. Install and Import Required Packages\n",
        "\n",
        "LexPilot uses Hugging Face transformers and datasets libraries, along with PyTorch and visualization tools.\n"
      ]
    },
    {
      "cell_type": "code",
      "execution_count": null,
      "metadata": {
        "colab": {
          "base_uri": "https://localhost:8080/"
        },
        "id": "6SCiYSOmqdN9",
        "outputId": "1debf075-7477-479a-b540-cb0275a0312c"
      },
      "outputs": [
        {
          "name": "stdout",
          "output_type": "stream",
          "text": [
            "Found existing installation: torch 2.1.2+cu121\n",
            "Uninstalling torch-2.1.2+cu121:\n",
            "  Successfully uninstalled torch-2.1.2+cu121\n",
            "Found existing installation: torchvision 0.16.2+cu121\n",
            "Uninstalling torchvision-0.16.2+cu121:\n",
            "  Successfully uninstalled torchvision-0.16.2+cu121\n",
            "Found existing installation: torchaudio 2.1.2+cu121\n",
            "Uninstalling torchaudio-2.1.2+cu121:\n",
            "  Successfully uninstalled torchaudio-2.1.2+cu121\n",
            "Found existing installation: transformers 4.41.2\n",
            "Uninstalling transformers-4.41.2:\n",
            "  Successfully uninstalled transformers-4.41.2\n",
            "Found existing installation: protobuf 5.26.1\n",
            "Uninstalling protobuf-5.26.1:\n",
            "  Successfully uninstalled protobuf-5.26.1\n",
            "Found existing installation: websockets 11.0.3\n",
            "Uninstalling websockets-11.0.3:\n",
            "  Successfully uninstalled websockets-11.0.3\n",
            "Found existing installation: gradio 4.31.4\n",
            "Uninstalling gradio-4.31.4:\n",
            "  Successfully uninstalled gradio-4.31.4\n",
            "Found existing installation: sentence-transformers 2.7.0\n",
            "Uninstalling sentence-transformers-2.7.0:\n",
            "  Successfully uninstalled sentence-transformers-2.7.0\n",
            "Found existing installation: yfinance 0.2.36\n",
            "Uninstalling yfinance-0.2.36:\n",
            "  Successfully uninstalled yfinance-0.2.36\n"
          ]
        }
      ],
      "source": [
        "!pip uninstall -y torch torchvision torchaudio transformers protobuf websockets gradio sentence-transformers yfinance\n"
      ]
    },
    {
      "cell_type": "code",
      "execution_count": null,
      "metadata": {
        "colab": {
          "base_uri": "https://localhost:8080/"
        },
        "id": "dK9NO8SO3rYP",
        "outputId": "9abc58d9-04a6-40fa-d5b6-bae68e894233"
      },
      "outputs": [
        {
          "name": "stdout",
          "output_type": "stream",
          "text": [
            "\u001b[33mWARNING: typer 0.16.0 does not provide the extra 'all'\u001b[0m\u001b[33m\n",
            "\u001b[2K   \u001b[90m━━━━━━━━━━━━━━━━━━━━━━━━━━━━━━━━━━━━━━━\u001b[0m \u001b[32m163.3/163.3 kB\u001b[0m \u001b[31m256.8 kB/s\u001b[0m eta \u001b[36m0:00:00\u001b[0m\n",
            "\u001b[2K   \u001b[90m━━━━━━━━━━━━━━━━━━━━━━━━━━━━━━━━━━━━━━━━\u001b[0m \u001b[32m16.6/16.6 MB\u001b[0m \u001b[31m27.2 MB/s\u001b[0m eta \u001b[36m0:00:00\u001b[0m\n",
            "\u001b[2K   \u001b[90m━━━━━━━━━━━━━━━━━━━━━━━━━━━━━━━━━━━━━━━━\u001b[0m \u001b[32m305.2/305.2 kB\u001b[0m \u001b[31m30.3 MB/s\u001b[0m eta \u001b[36m0:00:00\u001b[0m\n",
            "\u001b[?25h\u001b[31mERROR: pip's dependency resolver does not currently take into account all the packages that are installed. This behaviour is the source of the following dependency conflicts.\n",
            "google-genai 1.20.0 requires websockets<15.1.0,>=13.0.0, but you have websockets 11.0.3 which is incompatible.\n",
            "dataproc-spark-connect 0.7.5 requires websockets>=14.0, but you have websockets 11.0.3 which is incompatible.\n",
            "ydf 0.12.0 requires protobuf<6.0.0,>=5.29.1, but you have protobuf 5.26.1 which is incompatible.\u001b[0m\u001b[31m\n",
            "\u001b[0m"
          ]
        }
      ],
      "source": [
        "!pip install torch==2.1.2 torchvision==0.16.2 torchaudio==2.1.2 \\\n",
        "transformers==4.39.3 sentence-transformers==2.6.1 \\\n",
        "protobuf==5.26.1 websockets==11.0.3 gradio==4.15.0 yfinance==0.2.36 --quiet"
      ]
    },
    {
      "cell_type": "markdown",
      "metadata": {
        "id": "DHFr4hT9Fp6w"
      },
      "source": [
        "\n",
        "\n",
        "### Key Notes:\n",
        "\n",
        "- **prepare_features:** Tokenizes and aligns start/end positions for answers.  \n",
        "- **QADataset:** Custom PyTorch dataset for QA task.  \n",
        "- **Training loop:** Runs multiple epochs, optimizing model weights.  \n",
        "- **Saving:** Model weights saved as `lexpilot_trained_model.pt`, embeddings saved as `lexpilot_word_embeddings.pt`.  \n",
        "- **Download links:** Displayed for easy download in notebook environments (e.g., Google Colab).  \n",
        "- **answer_question:** Predict answer for a given question and context using the trained LexPilot model.  \n"
      ]
    },
    {
      "cell_type": "code",
      "execution_count": null,
      "metadata": {
        "id": "tzc0IkiCDUQb"
      },
      "outputs": [],
      "source": [
        "# Import required libraries\n",
        "from datasets import load_dataset\n",
        "from transformers import BertTokenizerFast, BertForQuestionAnswering\n",
        "import torch\n",
        "from torch.utils.data import Dataset, DataLoader\n",
        "from torch.optim import AdamW\n",
        "from tqdm import tqdm\n",
        "import seaborn as sns\n",
        "import matplotlib.pyplot as plt\n",
        "from sklearn.metrics.pairwise import cosine_similarity\n"
      ]
    },
    {
      "cell_type": "markdown",
      "metadata": {
        "id": "Hz8GHe3-Dqgx"
      },
      "source": [
        "# 2. Load the SQuAD Dataset\n",
        "We load the SQuAD dataset and extract smaller subsets for faster experimentation in LexPilot."
      ]
    },
    {
      "cell_type": "code",
      "execution_count": null,
      "metadata": {
        "colab": {
          "base_uri": "https://localhost:8080/"
        },
        "id": "x_rl981nDZev",
        "outputId": "a0770c2e-73e0-4e22-e793-33189a013c97"
      },
      "outputs": [
        {
          "name": "stderr",
          "output_type": "stream",
          "text": [
            "/usr/local/lib/python3.11/dist-packages/huggingface_hub/utils/_auth.py:94: UserWarning: \n",
            "The secret `HF_TOKEN` does not exist in your Colab secrets.\n",
            "To authenticate with the Hugging Face Hub, create a token in your settings tab (https://huggingface.co/settings/tokens), set it as secret in your Google Colab and restart your session.\n",
            "You will be able to reuse this secret in all of your notebooks.\n",
            "Please note that authentication is recommended but still optional to access public models or datasets.\n",
            "  warnings.warn(\n"
          ]
        },
        {
          "name": "stdout",
          "output_type": "stream",
          "text": [
            "DatasetDict({\n",
            "    train: Dataset({\n",
            "        features: ['id', 'title', 'context', 'question', 'answers'],\n",
            "        num_rows: 87599\n",
            "    })\n",
            "    validation: Dataset({\n",
            "        features: ['id', 'title', 'context', 'question', 'answers'],\n",
            "        num_rows: 10570\n",
            "    })\n",
            "})\n",
            "{'id': '5733be284776f41900661182', 'title': 'University_of_Notre_Dame', 'context': 'Architecturally, the school has a Catholic character. Atop the Main Building\\'s gold dome is a golden statue of the Virgin Mary. Immediately in front of the Main Building and facing it, is a copper statue of Christ with arms upraised with the legend \"Venite Ad Me Omnes\". Next to the Main Building is the Basilica of the Sacred Heart. Immediately behind the basilica is the Grotto, a Marian place of prayer and reflection. It is a replica of the grotto at Lourdes, France where the Virgin Mary reputedly appeared to Saint Bernadette Soubirous in 1858. At the end of the main drive (and in a direct line that connects through 3 statues and the Gold Dome), is a simple, modern stone statue of Mary.', 'question': 'To whom did the Virgin Mary allegedly appear in 1858 in Lourdes France?', 'answers': {'text': ['Saint Bernadette Soubirous'], 'answer_start': [515]}}\n"
          ]
        }
      ],
      "source": [
        "# ----------------------------\n",
        "# 1. LOAD DATASET (SQuAD)\n",
        "# ----------------------------\n",
        "from datasets import load_dataset\n",
        "dataset = load_dataset(\"squad\")\n",
        "print(dataset)\n",
        "\n",
        "\n",
        "# Select smaller subset for quicker training\n",
        "small_train = dataset[\"train\"].select(range(2000))\n",
        "small_val = dataset[\"validation\"].select(range(500))\n",
        "print(small_train[0])"
      ]
    },
    {
      "cell_type": "markdown",
      "metadata": {
        "id": "Se8ktZW_JQc7"
      },
      "source": [
        "### Understanding the Dataset\n",
        "\n",
        "The dataset consists of pairs of **questions** and corresponding **context** passages, along with the **answers** and their start positions within the context. Each example includes:\n",
        "\n",
        "- **question:** The question we want the model to answer.\n",
        "- **context:** A passage of text that contains the answer.\n",
        "- **answers:** The actual answer text and the character index where the answer starts in the context.\n",
        "\n",
        "This structure is essential for training a Question Answering model, which learns to locate the exact span of text in the context that answers the question. Examining the dataset helps ensure that the data is correctly formatted and that the answers align properly within the contexts.\n"
      ]
    },
    {
      "cell_type": "markdown",
      "metadata": {
        "id": "7lEbfEfGDwZn"
      },
      "source": [
        "# 3. Tokenization and Feature Preparation\n",
        "LexPilot tokenizes question-context pairs with BERT tokenizer. Sliding windows with overlaps handle long contexts, and answer spans are mapped to token positions for training.\n",
        "\n"
      ]
    },
    {
      "cell_type": "code",
      "execution_count": null,
      "metadata": {
        "colab": {
          "base_uri": "https://localhost:8080/",
          "height": 136,
          "referenced_widgets": [
            "c0f3e3cd1cb04e6c93b93e6154b99559",
            "ee66ad448fbf42fd8c79e3284f5b1b5c",
            "96a5211c70db4d06bc0b5d859236196a",
            "6548493c935b42559ee44532d2ebef1e",
            "26f3b7fe99ee4b52b3493a9be769dc52",
            "021288a92aa74075973b9bb8c2545e20",
            "a07c77ea828c4fda827d595048f0b9af",
            "0ca1476490494ea7b40693ab1ec1c7fe",
            "e8feef44205a46dcb4f628db9fbf651e",
            "e03b4241cda54b61bda333bdee59b81f",
            "3f26100fc3a64e55b27a788e6e47b975",
            "f4f391515aab44e393c08cb2dcf44dcb",
            "231caa346c4c4ef4b69bbf4cdc8807a3",
            "fd341f61bcec434e88bb364417f1f48a",
            "741a6927a20e4043a3765a50b5103e0d",
            "d2de6633df2d4523a87db4ada1d32fe4",
            "818e26bb456d45a5957b3118e52f5770",
            "ecb55961ea0b4523bc3fe6d722347407",
            "8c9b9851b7ef4215a8fd058f416915cc",
            "38879b2683d8471480f26b6f4703d6c0",
            "3fad9d0417624ccc822a3bc69323a6d7",
            "289e6c7200f4453892720b9780937206"
          ]
        },
        "id": "Kg8aNxmFDeM6",
        "outputId": "a3baea65-b9f6-4241-82a8-72d6cf766174"
      },
      "outputs": [
        {
          "name": "stderr",
          "output_type": "stream",
          "text": [
            "/usr/local/lib/python3.11/dist-packages/huggingface_hub/file_download.py:943: FutureWarning: `resume_download` is deprecated and will be removed in version 1.0.0. Downloads always resume when possible. If you want to force a new download, use `force_download=True`.\n",
            "  warnings.warn(\n"
          ]
        },
        {
          "data": {
            "application/vnd.jupyter.widget-view+json": {
              "model_id": "c0f3e3cd1cb04e6c93b93e6154b99559",
              "version_major": 2,
              "version_minor": 0
            },
            "text/plain": [
              "Map:   0%|          | 0/2000 [00:00<?, ? examples/s]"
            ]
          },
          "metadata": {},
          "output_type": "display_data"
        },
        {
          "data": {
            "application/vnd.jupyter.widget-view+json": {
              "model_id": "f4f391515aab44e393c08cb2dcf44dcb",
              "version_major": 2,
              "version_minor": 0
            },
            "text/plain": [
              "Map:   0%|          | 0/500 [00:00<?, ? examples/s]"
            ]
          },
          "metadata": {},
          "output_type": "display_data"
        }
      ],
      "source": [
        "# Load BERT tokenizer (uncased)\n",
        "tokenizer = BertTokenizerFast.from_pretrained(\"bert-base-uncased\")\n",
        "\n",
        "def prepare_features(examples):\n",
        "    # Tokenize with sliding window to handle long contexts\n",
        "    tokenized_examples = tokenizer(\n",
        "        examples[\"question\"],\n",
        "        examples[\"context\"],\n",
        "        truncation=\"only_second\",\n",
        "        max_length=384,\n",
        "        stride=128,\n",
        "        return_overflowing_tokens=True,\n",
        "        return_offsets_mapping=True,\n",
        "        padding=\"max_length\",\n",
        "    )\n",
        "\n",
        "    sample_mapping = tokenized_examples.pop(\"overflow_to_sample_mapping\")\n",
        "    offset_mapping = tokenized_examples.pop(\"offset_mapping\")\n",
        "\n",
        "    start_positions = []\n",
        "    end_positions = []\n",
        "\n",
        "    for i, offsets in enumerate(offset_mapping):\n",
        "        input_ids = tokenized_examples[\"input_ids\"][i]\n",
        "        cls_index = input_ids.index(tokenizer.cls_token_id)\n",
        "\n",
        "        sequence_ids = tokenized_examples.sequence_ids(i)\n",
        "        sample_index = sample_mapping[i]\n",
        "        answers = examples[\"answers\"][sample_index]\n",
        "\n",
        "        # No answer case\n",
        "        if len(answers[\"answer_start\"]) == 0:\n",
        "            start_positions.append(cls_index)\n",
        "            end_positions.append(cls_index)\n",
        "        else:\n",
        "            start_char = answers[\"answer_start\"][0]\n",
        "            end_char = start_char + len(answers[\"text\"][0])\n",
        "\n",
        "            token_start_index = 0\n",
        "            while sequence_ids[token_start_index] != 1:\n",
        "                token_start_index += 1\n",
        "\n",
        "            token_end_index = len(input_ids) - 1\n",
        "            while sequence_ids[token_end_index] != 1:\n",
        "                token_end_index -= 1\n",
        "\n",
        "            # Check if answer is in current span\n",
        "            if not (offsets[token_start_index][0] <= start_char and offsets[token_end_index][1] >= end_char):\n",
        "                start_positions.append(cls_index)\n",
        "                end_positions.append(cls_index)\n",
        "            else:\n",
        "                # Find token start position\n",
        "                while token_start_index < len(offsets) and offsets[token_start_index][0] <= start_char:\n",
        "                    token_start_index += 1\n",
        "                start_positions.append(token_start_index - 1)\n",
        "\n",
        "                # Find token end position\n",
        "                while offsets[token_end_index][1] >= end_char:\n",
        "                    token_end_index -= 1\n",
        "                end_positions.append(token_end_index + 1)\n",
        "\n",
        "    tokenized_examples[\"start_positions\"] = start_positions\n",
        "    tokenized_examples[\"end_positions\"] = end_positions\n",
        "\n",
        "    return tokenized_examples\n",
        "\n",
        "# Apply tokenization and feature preparation to subsets\n",
        "tokenized_train = small_train.map(prepare_features, batched=True, remove_columns=small_train.column_names)\n",
        "tokenized_val = small_val.map(prepare_features, batched=True, remove_columns=small_val.column_names)\n"
      ]
    },
    {
      "cell_type": "markdown",
      "metadata": {
        "id": "9GBqwDKKIlV8"
      },
      "source": [
        "### Preparing Tokenized Features with Answer Positions\n",
        "\n",
        "This function tokenizes each question-context pair, handling long contexts with a sliding window approach. It aligns character-based answer spans to token indices, which is essential because the model needs to learn to predict the start and end token positions of the answer within the input tokens. If an example has no answer, the positions default to the CLS token index, a standard practice for no-answer cases. This preprocessing prepares our dataset for training the question answering model.\n"
      ]
    },
    {
      "cell_type": "markdown",
      "metadata": {
        "id": "mfPZYwdCEGfP"
      },
      "source": [
        "# 4. Create PyTorch Dataset and DataLoader\n",
        "We prepare datasets and dataloaders for LexPilot's training and validation."
      ]
    },
    {
      "cell_type": "code",
      "execution_count": null,
      "metadata": {
        "id": "aHhMphxnELXg"
      },
      "outputs": [],
      "source": [
        "class QADataset(Dataset):\n",
        "    def __init__(self, encodings):\n",
        "        self.encodings = encodings\n",
        "\n",
        "    def __len__(self):\n",
        "        return len(self.encodings[\"input_ids\"])\n",
        "\n",
        "    def __getitem__(self, idx):\n",
        "        return {\n",
        "            \"input_ids\": torch.tensor(self.encodings[\"input_ids\"][idx]),\n",
        "            \"attention_mask\": torch.tensor(self.encodings[\"attention_mask\"][idx]),\n",
        "            \"start_positions\": torch.tensor(self.encodings[\"start_positions\"][idx]),\n",
        "            \"end_positions\": torch.tensor(self.encodings[\"end_positions\"][idx]),\n",
        "        }\n",
        "\n",
        "# Instantiate datasets for training and validation\n",
        "train_dataset = QADataset(tokenized_train)\n",
        "val_dataset = QADataset(tokenized_val)\n",
        "\n",
        "# Create dataloaders with batching\n",
        "train_loader = DataLoader(train_dataset, batch_size=8, shuffle=True)\n",
        "val_loader = DataLoader(val_dataset, batch_size=8)\n"
      ]
    },
    {
      "cell_type": "markdown",
      "metadata": {
        "id": "OTTyRrNAIqLB"
      },
      "source": [
        "### Creating Dataset and DataLoader for PyTorch\n",
        "\n",
        "PyTorch models work with tensors and benefit from batched data input. The `QADataset` class wraps our tokenized data and converts all features into tensors. The DataLoader creates batches and shuffles data during training to improve learning efficiency and generalization. This setup allows efficient feeding of data to the model during training and evaluation.\n"
      ]
    },
    {
      "cell_type": "markdown",
      "metadata": {
        "id": "sIpjrzBGEUAY"
      },
      "source": [
        "# 5. Load Pretrained BERT QA Model and Train LexPilot\n",
        "We load the BERT QA model, fine-tune for 2 epochs with AdamW optimizer, and print training progress."
      ]
    },
    {
      "cell_type": "code",
      "execution_count": null,
      "metadata": {
        "colab": {
          "base_uri": "https://localhost:8080/"
        },
        "id": "qkAvXdN8EVKu",
        "outputId": "9e80ead1-a915-4998-c1d2-cb754ea1b79f"
      },
      "outputs": [
        {
          "name": "stdout",
          "output_type": "stream",
          "text": [
            "🔍 Using device: cuda\n"
          ]
        },
        {
          "name": "stderr",
          "output_type": "stream",
          "text": [
            "Some weights of BertForQuestionAnswering were not initialized from the model checkpoint at bert-base-uncased and are newly initialized: ['qa_outputs.bias', 'qa_outputs.weight']\n",
            "You should probably TRAIN this model on a down-stream task to be able to use it for predictions and inference.\n",
            "Epoch 1 - LexPilot Training: 100%|██████████| 257/257 [27:05<00:00,  6.32s/it, loss=2.06]\n"
          ]
        },
        {
          "name": "stdout",
          "output_type": "stream",
          "text": [
            "✅ Epoch 1 Average Loss: 3.3855\n"
          ]
        },
        {
          "name": "stderr",
          "output_type": "stream",
          "text": [
            "Epoch 2 - LexPilot Training: 100%|██████████| 257/257 [26:56<00:00,  6.29s/it, loss=1.64]\n"
          ]
        },
        {
          "name": "stdout",
          "output_type": "stream",
          "text": [
            "✅ Epoch 2 Average Loss: 1.4580\n"
          ]
        }
      ],
      "source": [
        "import torch\n",
        "from transformers import BertForQuestionAnswering\n",
        "from torch.optim import AdamW\n",
        "from tqdm import tqdm\n",
        "\n",
        "# ----------------------------\n",
        "# 1. Set Device (GPU if available)\n",
        "# ----------------------------\n",
        "device = torch.device(\"cuda\" if torch.cuda.is_available() else \"cpu\")\n",
        "print(f\"🔍 Using device: {device}\")\n",
        "\n",
        "# ----------------------------\n",
        "# 2. Load BERT Model\n",
        "# ----------------------------\n",
        "try:\n",
        "    model = BertForQuestionAnswering.from_pretrained(\"bert-base-uncased\").to(device)\n",
        "except ImportError as e:\n",
        "    print(\"❌ PyTorch must be installed to use this model. Error:\", e)\n",
        "    raise\n",
        "\n",
        "# ----------------------------\n",
        "# 3. Setup Optimizer\n",
        "# ----------------------------\n",
        "optimizer = AdamW(model.parameters(), lr=3e-5)\n",
        "\n",
        "# ----------------------------\n",
        "# 4. Training Loop\n",
        "# ----------------------------\n",
        "model.train()\n",
        "epochs = 2\n",
        "\n",
        "for epoch in range(epochs):\n",
        "    total_loss = 0\n",
        "    loop = tqdm(train_loader, desc=f\"Epoch {epoch+1} - LexPilot Training\")\n",
        "\n",
        "    for batch in loop:\n",
        "        # Move batch to the right device\n",
        "        input_ids = batch[\"input_ids\"].to(device)\n",
        "        attention_mask = batch[\"attention_mask\"].to(device)\n",
        "        start_positions = batch[\"start_positions\"].to(device)\n",
        "        end_positions = batch[\"end_positions\"].to(device)\n",
        "\n",
        "        # Forward pass\n",
        "        outputs = model(\n",
        "            input_ids=input_ids,\n",
        "            attention_mask=attention_mask,\n",
        "            start_positions=start_positions,\n",
        "            end_positions=end_positions\n",
        "        )\n",
        "\n",
        "        # Backpropagation\n",
        "        loss = outputs.loss\n",
        "        loss.backward()\n",
        "\n",
        "        optimizer.step()\n",
        "        optimizer.zero_grad()\n",
        "\n",
        "        # Logging\n",
        "        total_loss += loss.item()\n",
        "        loop.set_postfix(loss=loss.item())\n",
        "\n",
        "    avg_loss = total_loss / len(train_loader)\n",
        "    print(f\"✅ Epoch {epoch+1} Average Loss: {avg_loss:.4f}\")\n"
      ]
    },
    {
      "cell_type": "markdown",
      "metadata": {
        "id": "BFIYhYAkSa0g"
      },
      "source": [
        "### 🧾 Training Output Explanation\n",
        "\n",
        "---\n",
        "\n",
        "#### ⚠️ Warning Message  \n",
        "**\"Some weights of BertForQuestionAnswering were not initialized from the model checkpoint at bert-base-uncased and are newly initialized: ['qa_outputs.bias', 'qa_outputs.weight']\"**\n",
        "\n",
        "- This is **not an error**, but an **informative message**.\n",
        "- It indicates that the QA-specific output layer (`qa_outputs`) wasn’t part of the original BERT model and was **randomly initialized**.\n",
        "- BERT is pretrained on general text, not QA, so this final layer needs to be **fine-tuned** on your custom dataset.\n",
        "- ✔️ Training on SQuAD (or other QA tasks) will adapt these weights accordingly.\n",
        "\n",
        "---\n",
        "\n",
        "#### 📉 Epoch-wise Training Results\n",
        "\n",
        "---\n",
        "\n",
        "✅ **Epoch 1**  \n",
        "- **Progress:** `100%` complete  \n",
        "- **Time Taken:** ~27 minutes  \n",
        "- **Final Batch Loss:** `2.06`  \n",
        "- **Average Loss for Epoch 1:** `3.3855`  \n",
        "  - The model is beginning to learn patterns, but still makes large errors at this stage.\n",
        "\n",
        "---\n",
        "\n",
        "✅ **Epoch 2**  \n",
        "- **Progress:** `100%` complete  \n",
        "- **Time Taken:** ~27 minutes  \n",
        "- **Final Batch Loss:** `1.64`  \n",
        "- **Average Loss for Epoch 2:** `1.4580`  \n",
        "  - Significant improvement observed — the model is clearly adapting to the task.\n",
        "  - Lower loss indicates **better alignment between predictions and true answer spans**.\n",
        "\n",
        "---\n",
        "\n",
        "#### 📌 What Does \"Loss\" Mean?\n",
        "\n",
        "- **Loss** quantifies the difference between the model's predictions and the actual answers.\n",
        "- The objective during training is to **minimize loss**.\n",
        "- A high loss ~3.38 suggests the model is unsure or incorrect, while a lower loss ~1.45 indicates **learning progress**.\n",
        "\n",
        "---\n",
        "\n",
        "#### 📊 Conclusion\n",
        "\n",
        "- Your model is successfully fine-tuning on the QA dataset.\n",
        "- The initial warning about uninitialized weights is expected and handled during training.\n",
        "- A significant drop in loss from Epoch 1 to Epoch 2 shows that **LexPilot is learning effectively**.\n",
        "- You’re now ready to use the trained model for **inference and confidence scoring**.\n"
      ]
    },
    {
      "cell_type": "markdown",
      "metadata": {
        "id": "M0TcEQStIxFZ"
      },
      "source": [
        "### Loading Pretrained BERT Model and Optimizer\n",
        "\n",
        "We load the BERT model specifically designed for question answering, which can predict start and end tokens for answers. The model is moved to GPU if available for faster training. The AdamW optimizer is chosen with a small learning rate suitable for fine-tuning transformer models. This prepares the model and optimizer for the training process.\n"
      ]
    },
    {
      "cell_type": "markdown",
      "metadata": {
        "id": "1rtdnVU1I4KL"
      },
      "source": [
        "### Training Loop for Fine-tuning the Model\n",
        "\n",
        "This loop iterates through training batches, feeding inputs to the model and calculating loss based on predicted vs actual answer spans. The loss is backpropagated to update the model weights. We use a progress bar to monitor training and print average loss after each epoch. Training for multiple epochs allows the model to learn how to accurately predict answer positions.\n"
      ]
    },
    {
      "cell_type": "markdown",
      "metadata": {
        "id": "gGea4ntoEfm1"
      },
      "source": [
        "# 6. Save the Fine-Tuned Model and Embeddings\n",
        "We save LexPilot's trained model and a sample embedding tensor for further analysis or deployment."
      ]
    },
    {
      "cell_type": "code",
      "execution_count": null,
      "metadata": {
        "id": "WfheLiYlEZLS"
      },
      "outputs": [],
      "source": [
        "# Save the fine-tuned model weights\n",
        "torch.save(model.state_dict(), \"lexpilot_trained_model.pt\")\n",
        "\n",
        "# Extract word embeddings from a sample batch\n",
        "model.eval()\n",
        "with torch.no_grad():\n",
        "    sample_batch = next(iter(train_loader))\n",
        "    input_ids = sample_batch[\"input_ids\"].to(device)\n",
        "    embeddings = model.bert.embeddings.word_embeddings(input_ids).cpu()\n",
        "    torch.save(embeddings, \"lexpilot_embeddings_tensor.pt\")\n"
      ]
    },
    {
      "cell_type": "markdown",
      "metadata": {
        "id": "RYne6gJ0I2rx"
      },
      "source": [
        "### Saving the Fine-tuned Model and Word Embeddings\n",
        "\n",
        "After training, saving the model weights ensures we can reload the trained model later without retraining. We also extract and save the word embeddings from the model's embedding layer, which can be useful for further analysis or tasks. Providing download links in the notebook makes it easy to retrieve these files.\n"
      ]
    },
    {
      "cell_type": "markdown",
      "metadata": {
        "id": "HsHy0M9EEsWM"
      },
      "source": [
        "# 7. Define Prediction Function for LexPilot\n",
        "LexPilot's function to answer questions given a context using the fine-tuned model."
      ]
    },
    {
      "cell_type": "code",
      "execution_count": null,
      "metadata": {
        "colab": {
          "base_uri": "https://localhost:8080/"
        },
        "id": "ps_aTsUtEtVP",
        "outputId": "b0fe77f3-adbe-4192-d7d1-0bdc0e6571bf"
      },
      "outputs": [
        {
          "name": "stdout",
          "output_type": "stream",
          "text": [
            "LexPilot Answer: denver broncos\n"
          ]
        }
      ],
      "source": [
        "def lexpilot_answer_question(question, context):\n",
        "    model.eval()\n",
        "    inputs = tokenizer.encode_plus(question, context, return_tensors=\"pt\").to(device)\n",
        "\n",
        "    with torch.no_grad():\n",
        "        outputs = model(**inputs)\n",
        "        start_idx = torch.argmax(outputs.start_logits)\n",
        "        end_idx = torch.argmax(outputs.end_logits) + 1\n",
        "\n",
        "    answer = tokenizer.convert_tokens_to_string(tokenizer.convert_ids_to_tokens(inputs[\"input_ids\"][0][start_idx:end_idx]))\n",
        "    return answer\n",
        "\n",
        "# Example usage:\n",
        "example_context = small_val[0][\"context\"]\n",
        "example_question = small_val[0][\"question\"]\n",
        "print(f\"LexPilot Answer: {lexpilot_answer_question(example_question, example_context)}\")\n"
      ]
    },
    {
      "cell_type": "markdown",
      "metadata": {
        "id": "l42MwhU5Gk1S"
      },
      "source": [
        "# 8: Predict Answers with Fine-Tuned LexPilot Model\n",
        "\n",
        "Define a function `answer_question` to predict answer spans given a question and context.  \n",
        "Example usage is shown with a sample question and context.\n"
      ]
    },
    {
      "cell_type": "code",
      "execution_count": null,
      "metadata": {
        "colab": {
          "base_uri": "https://localhost:8080/"
        },
        "id": "gIv6OQ1OGuUv",
        "outputId": "929f0a57-f39e-4ad9-9581-6c43efacf76d"
      },
      "outputs": [
        {
          "name": "stdout",
          "output_type": "stream",
          "text": [
            "❓ Question: Who wrote the Harry Potter series?\n",
            "📄 Answer: j. k. rowling\n"
          ]
        }
      ],
      "source": [
        "def answer_question(question, context):\n",
        "    model.eval()\n",
        "    inputs = tokenizer.encode_plus(question, context, return_tensors=\"pt\").to(device)\n",
        "\n",
        "    with torch.no_grad():\n",
        "        outputs = model(**inputs)\n",
        "        start = torch.argmax(outputs.start_logits)\n",
        "        end = torch.argmax(outputs.end_logits) + 1\n",
        "\n",
        "    answer = tokenizer.convert_tokens_to_string(tokenizer.convert_ids_to_tokens(inputs[\"input_ids\"][0][start:end]))\n",
        "    return answer\n",
        "\n",
        "\n",
        "# Example usage\n",
        "context = \"The Harry Potter series was written by British author J.K. Rowling.\"\n",
        "question = \"Who wrote the Harry Potter series?\"\n",
        "print(\"❓ Question:\", question)\n",
        "print(\"📄 Answer:\", answer_question(question, context))\n"
      ]
    },
    {
      "cell_type": "markdown",
      "metadata": {
        "id": "OYxDbduGI_Lh"
      },
      "source": [
        "### Using the Fine-tuned Model for Question Answering\n",
        "\n",
        "This function demonstrates how to input a new question and context, and get the model's predicted answer. It converts the predicted start and end tokens back into readable text. This inference step confirms the model works well on new data and provides a template for practical use.\n"
      ]
    },
    {
      "cell_type": "markdown",
      "metadata": {
        "id": "LUZTMKQdE2yH"
      },
      "source": [
        "# 9. Cosine Similarity Heatmap\n",
        "LexPilot visualizes the semantic similarity between tokens in a sample using a heatmap.**bold text**"
      ]
    },
    {
      "cell_type": "code",
      "execution_count": null,
      "metadata": {
        "colab": {
          "base_uri": "https://localhost:8080/",
          "height": 699
        },
        "id": "hQzmQbfqE4TV",
        "outputId": "4789ed20-22f1-476e-a65a-0cd7f6163787"
      },
      "outputs": [
        {
          "data": {
            "image/png": "[encoded data removed]",
            "text/plain": [
              "<Figure size 1000x800 with 2 Axes>"
            ]
          },
          "metadata": {},
          "output_type": "display_data"
        }
      ],
      "source": [
        "# ✅ 6. COSINE SIMILARITY HEATMAP\n",
        "import seaborn as sns\n",
        "import matplotlib.pyplot as plt\n",
        "from sklearn.metrics.pairwise import cosine_similarity\n",
        "\n",
        "# Visualize token embedding similarity\n",
        "with torch.no_grad():\n",
        "    inputs = tokenizer(\"Harry Potter is a fantasy novel\", return_tensors=\"pt\").to(device)\n",
        "    token_embeddings = model.bert.embeddings.word_embeddings(inputs[\"input_ids\"]).squeeze(0).cpu().numpy()\n",
        "\n",
        "cos_sim = cosine_similarity(token_embeddings)\n",
        "\n",
        "plt.figure(figsize=(10, 8))\n",
        "sns.heatmap(cos_sim, annot=True, xticklabels=tokenizer.convert_ids_to_tokens(inputs[\"input_ids\"][0]),\n",
        "            yticklabels=tokenizer.convert_ids_to_tokens(inputs[\"input_ids\"][0]), cmap=\"coolwarm\")\n",
        "plt.title(\"Cosine Similarity Between Token Embeddings\")\n",
        "plt.show()\n"
      ]
    },
    {
      "cell_type": "markdown",
      "metadata": {
        "id": "-qWAXasBIFwh"
      },
      "source": [
        "This image displays a **Cosine Similarity Heatmap Between Token Embeddings** for the sentence \"harry potter is a fantasy novel\".\n",
        "\n",
        "Here's a breakdown of what this heatmap represents and what it tells us:\n",
        "\n",
        "* **Tokens (Words)**: The rows and columns of the heatmap correspond to the individual tokens (words) from the input sentence: `[CLS]`, `harry`, `potter`, `is`, `a`, `fantasy`, `novel`, `[SEP]`.\n",
        "    * `[CLS]` and `[SEP]` are special tokens commonly used in transformer models like BERT. `[CLS]` (classifier) is typically at the beginning of the sequence and can aggregate sequence-level information, while `[SEP]` (separator) marks the end of a sequence.\n",
        "* **Cosine Similarity**: Each cell in the heatmap shows the cosine similarity between the embeddings of the token in its row and the token in its column.\n",
        "    * **Cosine Similarity** is a measure of similarity between two non-zero vectors of an inner product space that measures the cosine of the angle between them. A value of 1 means the vectors are identical (same direction), 0 means they are orthogonal (no similarity), and -1 means they are exactly opposite.\n",
        "    * In the context of word embeddings, a higher cosine similarity indicates that the words are semantically more similar or are used in similar contexts within the model's understanding.\n",
        "* **Color Scale**: The color bar on the right indicates the range of cosine similarity values, from blue (low similarity, potentially negative) to red (high similarity, close to 1).\n",
        "\n",
        "**Key Observations from the Heatmap:**\n",
        "\n",
        "1.  **Diagonal (Self-Similarity)**: As expected, the diagonal elements are all 1.00, meaning each token is perfectly similar to itself.\n",
        "\n",
        "2.  **`[CLS]` Token's Relationships**:\n",
        "    * `[CLS]` has the highest similarity with `[SEP]` (0.41). This makes sense as both are structural tokens and might encode overarching sentence information.\n",
        "    * It has low to moderate similarity with most other words, suggesting it might be capturing a general sentence representation rather than specific word meanings.\n",
        "\n",
        "3.  **\"harry potter\" Pair**:\n",
        "    * `harry` and `potter` show a relatively high cosine similarity (0.39). This is expected as they frequently appear together as a proper noun phrase and are strongly related semantically.\n",
        "\n",
        "4.  **\"fantasy novel\" Pair**:\n",
        "    * `fantasy` and `novel` also show a strong cosine similarity (0.36), indicating their close semantic relationship as a common phrase.\n",
        "\n",
        "5.  **Stop Words (`is`, `a`)**:\n",
        "    * The stop words `is` and `a` generally have lower similarities with content words like `harry`, `potter`, `fantasy`, and `novel`. This is common as stop words primarily serve grammatical functions rather than carrying strong semantic meaning on their own.\n",
        "    * However, `is` shows a moderate similarity with `potter` (0.15) and `novel` (0.19), and `a` shows similarity with `fantasy` (0.4) which is interesting.\n",
        "\n",
        "6.  **Semantic Groupings (Implicit)**:\n",
        "    * We can see clusters of related words. For instance, the block around `harry`, `potter`, `fantasy`, and `novel` tends to have higher similarity values among themselves compared to their similarity with `is` or `a`.\n",
        "\n",
        "**In Summary:**\n",
        "\n",
        "This heatmap visually represents how a pre-trained language model (or embedding model) perceives the semantic relationships between tokens in a given sentence. Higher cosine similarity values suggest that the model finds those tokens to be more semantically similar or contextually related. This visualization is useful for understanding the internal representations learned by embedding models and how they capture linguistic nuances."
      ]
    },
    {
      "cell_type": "markdown",
      "metadata": {
        "id": "y9RujACwH1qs"
      },
      "source": [
        "# Download file for final submission"
      ]
    },
    {
      "cell_type": "code",
      "execution_count": null,
      "metadata": {
        "colab": {
          "base_uri": "https://localhost:8080/",
          "height": 34
        },
        "id": "VtMw0nYKE8Ls",
        "outputId": "ee17f4d6-e496-4d67-8c70-b9da68a0cf40"
      },
      "outputs": [
        {
          "data": {
            "application/javascript": "\n    async function download(id, filename, size) {\n      if (!google.colab.kernel.accessAllowed) {\n        return;\n      }\n      const div = document.createElement('div');\n      const label = document.createElement('label');\n      label.textContent = `Downloading \"${filename}\": `;\n      div.appendChild(label);\n      const progress = document.createElement('progress');\n      progress.max = size;\n      div.appendChild(progress);\n      document.body.appendChild(div);\n\n      const buffers = [];\n      let downloaded = 0;\n\n      const channel = await google.colab.kernel.comms.open(id);\n      // Send a message to notify the kernel that we're ready.\n      channel.send({})\n\n      for await (const message of channel.messages) {\n        // Send a message to notify the kernel that we're ready.\n        channel.send({})\n        if (message.buffers) {\n          for (const buffer of message.buffers) {\n            buffers.push(buffer);\n            downloaded += buffer.byteLength;\n            progress.value = downloaded;\n          }\n        }\n      }\n      const blob = new Blob(buffers, {type: 'application/binary'});\n      const a = document.createElement('a');\n      a.href = window.URL.createObjectURL(blob);\n      a.download = filename;\n      div.appendChild(a);\n      a.click();\n      div.remove();\n    }\n  ",
            "text/plain": [
              "<IPython.core.display.Javascript object>"
            ]
          },
          "metadata": {},
          "output_type": "display_data"
        },
        {
          "data": {
            "application/javascript": "download(\"download_b974e062-3ff3-4cba-bda6-2203878b386e\", \"lexpilot_trained_model.pt\", 435656713)",
            "text/plain": [
              "<IPython.core.display.Javascript object>"
            ]
          },
          "metadata": {},
          "output_type": "display_data"
        },
        {
          "data": {
            "application/javascript": "\n    async function download(id, filename, size) {\n      if (!google.colab.kernel.accessAllowed) {\n        return;\n      }\n      const div = document.createElement('div');\n      const label = document.createElement('label');\n      label.textContent = `Downloading \"${filename}\": `;\n      div.appendChild(label);\n      const progress = document.createElement('progress');\n      progress.max = size;\n      div.appendChild(progress);\n      document.body.appendChild(div);\n\n      const buffers = [];\n      let downloaded = 0;\n\n      const channel = await google.colab.kernel.comms.open(id);\n      // Send a message to notify the kernel that we're ready.\n      channel.send({})\n\n      for await (const message of channel.messages) {\n        // Send a message to notify the kernel that we're ready.\n        channel.send({})\n        if (message.buffers) {\n          for (const buffer of message.buffers) {\n            buffers.push(buffer);\n            downloaded += buffer.byteLength;\n            progress.value = downloaded;\n          }\n        }\n      }\n      const blob = new Blob(buffers, {type: 'application/binary'});\n      const a = document.createElement('a');\n      a.href = window.URL.createObjectURL(blob);\n      a.download = filename;\n      div.appendChild(a);\n      a.click();\n      div.remove();\n    }\n  ",
            "text/plain": [
              "<IPython.core.display.Javascript object>"
            ]
          },
          "metadata": {},
          "output_type": "display_data"
        },
        {
          "data": {
            "application/javascript": "download(\"download_15416b1f-3cec-4911-b048-cccf49862762\", \"lexpilot_embeddings_tensor.pt\", 9438523)",
            "text/plain": [
              "<IPython.core.display.Javascript object>"
            ]
          },
          "metadata": {},
          "output_type": "display_data"
        }
      ],
      "source": [
        "from google.colab import files\n",
        "files.download(\"lexpilot_trained_model.pt\")\n",
        "files.download(\"lexpilot_embeddings_tensor.pt\")"
      ]
    },
    {
      "cell_type": "markdown",
      "metadata": {
        "id": "4pudBnWkJjck"
      },
      "source": [
        "# 2. Confidence Score for Answer"
      ]
    },
    {
      "cell_type": "markdown",
      "metadata": {
        "id": "8M4TVSC_KvOC"
      },
      "source": [
        "### Explanation of the `answer_with_confidence` Function\n",
        "\n",
        "This function enhances the basic question answering pipeline by not only returning the predicted answer but also providing a **confidence score** associated with the prediction. Here's why and how it works:\n",
        "\n",
        "- **Model Evaluation Mode:** We set the model to evaluation mode (`model.eval()`) to disable dropout and other training-specific behaviors for reliable inference.\n",
        "\n",
        "- **Tokenization:** The question and context are tokenized and converted into tensors that the model can process.\n",
        "\n",
        "- **Model Output:** The model outputs `start_logits` and `end_logits` which are raw scores for each token position indicating the likelihood that the token is the start or end of the answer span.\n",
        "\n",
        "- **Softmax Conversion:** We apply the softmax function to these logits to convert them into probabilities (`start_probs` and `end_probs`). This allows us to interpret the scores as confidence levels for each token.\n",
        "\n",
        "- **Prediction Selection:** The token with the highest start probability and the token with the highest end probability are chosen as the predicted answer span.\n",
        "\n",
        "- **Confidence Score:** The confidence of the answer span is calculated as the product of the start token's and end token's probabilities, reflecting how confident the model is that this span is the correct answer.\n",
        "\n",
        "- **Answer Decoding:** The token ids corresponding to the predicted span are converted back into a human-readable string.\n",
        "\n",
        "**Output Example:**\n",
        "\n",
        "For the question _\"Who wrote the Harry Potter series?\"_ and the given context, the function returns:\n",
        "\n",
        "- **Answer:** \"j. k. rowling\" — the model's predicted answer span.\n",
        "- **Confidence:** 0.9217 — indicating the model is about 92% confident in this prediction.\n",
        "\n",
        "This additional confidence score is useful for downstream applications where you might want to filter or prioritize answers based on how sure the model is.\n"
      ]
    },
    {
      "cell_type": "code",
      "execution_count": null,
      "metadata": {
        "colab": {
          "base_uri": "https://localhost:8080/"
        },
        "id": "FFKvO2TNJkSV",
        "outputId": "4f7ec5d1-795a-4888-dcd3-27fbf076e9bd"
      },
      "outputs": [
        {
          "name": "stdout",
          "output_type": "stream",
          "text": [
            "📄 Answer: j. k. rowling\n",
            "📈 Confidence: 0.9126\n"
          ]
        }
      ],
      "source": [
        "import torch.nn.functional as F\n",
        "\n",
        "def answer_with_confidence(question, context):\n",
        "    model.eval()\n",
        "    inputs = tokenizer.encode_plus(question, context, return_tensors=\"pt\").to(device)\n",
        "\n",
        "    with torch.no_grad():\n",
        "        outputs = model(**inputs)\n",
        "        start_logits = outputs.start_logits\n",
        "        end_logits = outputs.end_logits\n",
        "\n",
        "        # Softmax to get probabilities\n",
        "        start_probs = F.softmax(start_logits, dim=1)\n",
        "        end_probs = F.softmax(end_logits, dim=1)\n",
        "\n",
        "        start = torch.argmax(start_probs)\n",
        "        end = torch.argmax(end_probs) + 1\n",
        "        confidence = (start_probs[0][start] * end_probs[0][end-1]).item()\n",
        "\n",
        "        answer = tokenizer.convert_tokens_to_string(tokenizer.convert_ids_to_tokens(inputs[\"input_ids\"][0][start:end]))\n",
        "\n",
        "    return answer, confidence\n",
        "\n",
        "# Example\n",
        "ans, conf = answer_with_confidence(\"Who wrote the Harry Potter series?\", context)\n",
        "print(f\"📄 Answer: {ans}\\n📈 Confidence: {conf:.4f}\")\n"
      ]
    },
    {
      "cell_type": "markdown",
      "metadata": {
        "id": "wk8p0FC_KjuB"
      },
      "source": [
        "# 📘 Project Summary: LexPilot - BERT-Based Question Answering System\n",
        "\n",
        "---\n",
        "\n",
        "## 🎯 Purpose of This Project\n",
        "\n",
        "The main goal of this project was to **build an intelligent Question Answering (QA) system** using **BERT**, a state-of-the-art language model. The system, called **LexPilot**, is capable of understanding natural language queries and extracting precise answers from large context passages.\n",
        "\n",
        "This type of solution is at the core of modern AI assistants like Siri, Google Assistant, and customer service bots.\n",
        "\n",
        "---\n",
        "\n",
        "## 💡 Why We Created LexPilot\n",
        "\n",
        "- To **explore the capabilities of BERT** in real-world NLP applications.\n",
        "- To provide a **ready-to-use pipeline** for training, saving, and deploying a QA system.\n",
        "- To **understand how BERT embeddings work** by visualizing token similarities.\n",
        "- To enable confidence-based predictions for **better user experience** and **reliable system behavior**.\n",
        "\n",
        "---\n",
        "\n",
        "## 📦 Technical Workflow Overview\n",
        "\n",
        "### 1. **Data Loading & Preprocessing**\n",
        "We loaded a question-answering dataset and used BERT’s tokenizer with special techniques (overflow handling, stride windows) to:\n",
        "- Preserve the full question context.\n",
        "- Align answers with tokens for training.\n",
        "\n",
        "### 2. **Feature Engineering**\n",
        "Created training features such as:\n",
        "- `input_ids`, `attention_mask`, `token_type_ids`\n",
        "- `start_positions` and `end_positions`\n",
        "\n",
        "### 3. **Training Loop**\n",
        "Trained `BertForQuestionAnswering` with:\n",
        "- `AdamW` optimizer\n",
        "- `CrossEntropyLoss`\n",
        "- Batched input via `DataLoader`\n",
        "\n",
        "### 4. **Saving Model Artifacts**\n",
        "Saved:\n",
        "- Trained model (`trained_model.pt`)\n",
        "- Word embeddings (`tensor.pt`)\n",
        "\n",
        "### 5. **Inference & Confidence Scoring**\n",
        "Implemented:\n",
        "- `answer_question()` – returns best answer\n",
        "- `answer_with_confidence()` – includes a **probability score** for trustworthiness\n",
        "\n",
        "### 6. **Embedding Visualization**\n",
        "Computed cosine similarity between word embeddings to:\n",
        "- Analyze how BERT interprets relationships between words.\n",
        "\n",
        "---\n",
        "\n",
        "## 👩‍💼 Business Usefulness\n",
        "\n",
        "From a business point of view, LexPilot can serve as a foundation for:\n",
        "\n",
        "- **Automated Customer Support:** Instantly answer FAQs, reducing support staff workload.\n",
        "- **Enterprise Search:** Allow employees to query internal documentation and policies.\n",
        "- **E-learning Platforms:** Enable students to ask questions about study materials directly.\n",
        "- **Healthcare Chatbots:** Extract and deliver medical info from trusted text datasets.\n",
        "- **Legal Tech:** Help users find clauses or obligations in lengthy legal documents.\n",
        "\n",
        "It significantly improves **efficiency**, **accuracy**, and **user satisfaction** while cutting **operational costs**.\n",
        "\n",
        "---\n",
        "\n",
        "## 🧑‍💻 User Perspective\n",
        "\n",
        "For end-users, LexPilot offers:\n",
        "\n",
        "- 🔍 **Instant Answers:** No need to read full documents or articles.\n",
        "- 📈 **Confidence Score:** Helps users know whether they can trust the answer.\n",
        "- 📱 **Natural Language Interaction:** No technical skill required — just ask in plain English.\n",
        "\n",
        "---\n",
        "\n",
        "## ✅ Conclusion\n",
        "\n",
        "LexPilot combines the power of **pretrained language models** with real-time inference and confidence scoring, making it a smart solution for intelligent question answering. It’s scalable, interpretable, and adaptable across multiple industries, proving the practical value of NLP in solving real-world problems.\n"
      ]
    },
    {
      "cell_type": "code",
      "execution_count": null,
      "metadata": {
        "id": "8visP-4BKkP2"
      },
      "outputs": [],
      "source": []
    }
  ],
  "metadata": {
    "accelerator": "GPU",
    "colab": {
      "gpuType": "T4",
      "provenance": []
    },
    "kernelspec": {
      "display_name": "Python 3",
      "name": "python3"
    },
    "language_info": {
      "codemirror_mode": {
        "name": "ipython",
        "version": 3
      },
      "file_extension": ".py",
      "mimetype": "text/x-python",
      "name": "python",
      "nbconvert_exporter": "python",
      "pygments_lexer": "ipython3",
      "version": "3.11.0"
    },
    "widgets": {
      "application/vnd.jupyter.widget-state+json": {
        "021288a92aa74075973b9bb8c2545e20": {
          "model_module": "@jupyter-widgets/base",
          "model_module_version": "1.2.0",
          "model_name": "LayoutModel",
          "state": {
            "_model_module": "@jupyter-widgets/base",
            "_model_module_version": "1.2.0",
            "_model_name": "LayoutModel",
            "_view_count": null,
            "_view_module": "@jupyter-widgets/base",
            "_view_module_version": "1.2.0",
            "_view_name": "LayoutView",
            "align_content": null,
            "align_items": null,
            "align_self": null,
            "border": null,
            "bottom": null,
            "display": null,
            "flex": null,
            "flex_flow": null,
            "grid_area": null,
            "grid_auto_columns": null,
            "grid_auto_flow": null,
            "grid_auto_rows": null,
            "grid_column": null,
            "grid_gap": null,
            "grid_row": null,
            "grid_template_areas": null,
            "grid_template_columns": null,
            "grid_template_rows": null,
            "height": null,
            "justify_content": null,
            "justify_items": null,
            "left": null,
            "margin": null,
            "max_height": null,
            "max_width": null,
            "min_height": null,
            "min_width": null,
            "object_fit": null,
            "object_position": null,
            "order": null,
            "overflow": null,
            "overflow_x": null,
            "overflow_y": null,
            "padding": null,
            "right": null,
            "top": null,
            "visibility": null,
            "width": null
          }
        },
        "0ca1476490494ea7b40693ab1ec1c7fe": {
          "model_module": "@jupyter-widgets/base",
          "model_module_version": "1.2.0",
          "model_name": "LayoutModel",
          "state": {
            "_model_module": "@jupyter-widgets/base",
            "_model_module_version": "1.2.0",
            "_model_name": "LayoutModel",
            "_view_count": null,
            "_view_module": "@jupyter-widgets/base",
            "_view_module_version": "1.2.0",
            "_view_name": "LayoutView",
            "align_content": null,
            "align_items": null,
            "align_self": null,
            "border": null,
            "bottom": null,
            "display": null,
            "flex": null,
            "flex_flow": null,
            "grid_area": null,
            "grid_auto_columns": null,
            "grid_auto_flow": null,
            "grid_auto_rows": null,
            "grid_column": null,
            "grid_gap": null,
            "grid_row": null,
            "grid_template_areas": null,
            "grid_template_columns": null,
            "grid_template_rows": null,
            "height": null,
            "justify_content": null,
            "justify_items": null,
            "left": null,
            "margin": null,
            "max_height": null,
            "max_width": null,
            "min_height": null,
            "min_width": null,
            "object_fit": null,
            "object_position": null,
            "order": null,
            "overflow": null,
            "overflow_x": null,
            "overflow_y": null,
            "padding": null,
            "right": null,
            "top": null,
            "visibility": null,
            "width": null
          }
        },
        "231caa346c4c4ef4b69bbf4cdc8807a3": {
          "model_module": "@jupyter-widgets/controls",
          "model_module_version": "1.5.0",
          "model_name": "HTMLModel",
          "state": {
            "_dom_classes": [],
            "_model_module": "@jupyter-widgets/controls",
            "_model_module_version": "1.5.0",
            "_model_name": "HTMLModel",
            "_view_count": null,
            "_view_module": "@jupyter-widgets/controls",
            "_view_module_version": "1.5.0",
            "_view_name": "HTMLView",
            "description": "",
            "description_tooltip": null,
            "layout": "IPY_MODEL_818e26bb456d45a5957b3118e52f5770",
            "placeholder": "​",
            "style": "IPY_MODEL_ecb55961ea0b4523bc3fe6d722347407",
            "value": "Map: 100%"
          }
        },
        "26f3b7fe99ee4b52b3493a9be769dc52": {
          "model_module": "@jupyter-widgets/base",
          "model_module_version": "1.2.0",
          "model_name": "LayoutModel",
          "state": {
            "_model_module": "@jupyter-widgets/base",
            "_model_module_version": "1.2.0",
            "_model_name": "LayoutModel",
            "_view_count": null,
            "_view_module": "@jupyter-widgets/base",
            "_view_module_version": "1.2.0",
            "_view_name": "LayoutView",
            "align_content": null,
            "align_items": null,
            "align_self": null,
            "border": null,
            "bottom": null,
            "display": null,
            "flex": null,
            "flex_flow": null,
            "grid_area": null,
            "grid_auto_columns": null,
            "grid_auto_flow": null,
            "grid_auto_rows": null,
            "grid_column": null,
            "grid_gap": null,
            "grid_row": null,
            "grid_template_areas": null,
            "grid_template_columns": null,
            "grid_template_rows": null,
            "height": null,
            "justify_content": null,
            "justify_items": null,
            "left": null,
            "margin": null,
            "max_height": null,
            "max_width": null,
            "min_height": null,
            "min_width": null,
            "object_fit": null,
            "object_position": null,
            "order": null,
            "overflow": null,
            "overflow_x": null,
            "overflow_y": null,
            "padding": null,
            "right": null,
            "top": null,
            "visibility": null,
            "width": null
          }
        },
        "289e6c7200f4453892720b9780937206": {
          "model_module": "@jupyter-widgets/controls",
          "model_module_version": "1.5.0",
          "model_name": "DescriptionStyleModel",
          "state": {
            "_model_module": "@jupyter-widgets/controls",
            "_model_module_version": "1.5.0",
            "_model_name": "DescriptionStyleModel",
            "_view_count": null,
            "_view_module": "@jupyter-widgets/base",
            "_view_module_version": "1.2.0",
            "_view_name": "StyleView",
            "description_width": ""
          }
        },
        "38879b2683d8471480f26b6f4703d6c0": {
          "model_module": "@jupyter-widgets/controls",
          "model_module_version": "1.5.0",
          "model_name": "ProgressStyleModel",
          "state": {
            "_model_module": "@jupyter-widgets/controls",
            "_model_module_version": "1.5.0",
            "_model_name": "ProgressStyleModel",
            "_view_count": null,
            "_view_module": "@jupyter-widgets/base",
            "_view_module_version": "1.2.0",
            "_view_name": "StyleView",
            "bar_color": null,
            "description_width": ""
          }
        },
        "3f26100fc3a64e55b27a788e6e47b975": {
          "model_module": "@jupyter-widgets/controls",
          "model_module_version": "1.5.0",
          "model_name": "DescriptionStyleModel",
          "state": {
            "_model_module": "@jupyter-widgets/controls",
            "_model_module_version": "1.5.0",
            "_model_name": "DescriptionStyleModel",
            "_view_count": null,
            "_view_module": "@jupyter-widgets/base",
            "_view_module_version": "1.2.0",
            "_view_name": "StyleView",
            "description_width": ""
          }
        },
        "3fad9d0417624ccc822a3bc69323a6d7": {
          "model_module": "@jupyter-widgets/base",
          "model_module_version": "1.2.0",
          "model_name": "LayoutModel",
          "state": {
            "_model_module": "@jupyter-widgets/base",
            "_model_module_version": "1.2.0",
            "_model_name": "LayoutModel",
            "_view_count": null,
            "_view_module": "@jupyter-widgets/base",
            "_view_module_version": "1.2.0",
            "_view_name": "LayoutView",
            "align_content": null,
            "align_items": null,
            "align_self": null,
            "border": null,
            "bottom": null,
            "display": null,
            "flex": null,
            "flex_flow": null,
            "grid_area": null,
            "grid_auto_columns": null,
            "grid_auto_flow": null,
            "grid_auto_rows": null,
            "grid_column": null,
            "grid_gap": null,
            "grid_row": null,
            "grid_template_areas": null,
            "grid_template_columns": null,
            "grid_template_rows": null,
            "height": null,
            "justify_content": null,
            "justify_items": null,
            "left": null,
            "margin": null,
            "max_height": null,
            "max_width": null,
            "min_height": null,
            "min_width": null,
            "object_fit": null,
            "object_position": null,
            "order": null,
            "overflow": null,
            "overflow_x": null,
            "overflow_y": null,
            "padding": null,
            "right": null,
            "top": null,
            "visibility": null,
            "width": null
          }
        },
        "6548493c935b42559ee44532d2ebef1e": {
          "model_module": "@jupyter-widgets/controls",
          "model_module_version": "1.5.0",
          "model_name": "HTMLModel",
          "state": {
            "_dom_classes": [],
            "_model_module": "@jupyter-widgets/controls",
            "_model_module_version": "1.5.0",
            "_model_name": "HTMLModel",
            "_view_count": null,
            "_view_module": "@jupyter-widgets/controls",
            "_view_module_version": "1.5.0",
            "_view_name": "HTMLView",
            "description": "",
            "description_tooltip": null,
            "layout": "IPY_MODEL_e03b4241cda54b61bda333bdee59b81f",
            "placeholder": "​",
            "style": "IPY_MODEL_3f26100fc3a64e55b27a788e6e47b975",
            "value": " 2000/2000 [00:02&lt;00:00, 910.71 examples/s]"
          }
        },
        "741a6927a20e4043a3765a50b5103e0d": {
          "model_module": "@jupyter-widgets/controls",
          "model_module_version": "1.5.0",
          "model_name": "HTMLModel",
          "state": {
            "_dom_classes": [],
            "_model_module": "@jupyter-widgets/controls",
            "_model_module_version": "1.5.0",
            "_model_name": "HTMLModel",
            "_view_count": null,
            "_view_module": "@jupyter-widgets/controls",
            "_view_module_version": "1.5.0",
            "_view_name": "HTMLView",
            "description": "",
            "description_tooltip": null,
            "layout": "IPY_MODEL_3fad9d0417624ccc822a3bc69323a6d7",
            "placeholder": "​",
            "style": "IPY_MODEL_289e6c7200f4453892720b9780937206",
            "value": " 500/500 [00:00&lt;00:00, 780.48 examples/s]"
          }
        },
        "818e26bb456d45a5957b3118e52f5770": {
          "model_module": "@jupyter-widgets/base",
          "model_module_version": "1.2.0",
          "model_name": "LayoutModel",
          "state": {
            "_model_module": "@jupyter-widgets/base",
            "_model_module_version": "1.2.0",
            "_model_name": "LayoutModel",
            "_view_count": null,
            "_view_module": "@jupyter-widgets/base",
            "_view_module_version": "1.2.0",
            "_view_name": "LayoutView",
            "align_content": null,
            "align_items": null,
            "align_self": null,
            "border": null,
            "bottom": null,
            "display": null,
            "flex": null,
            "flex_flow": null,
            "grid_area": null,
            "grid_auto_columns": null,
            "grid_auto_flow": null,
            "grid_auto_rows": null,
            "grid_column": null,
            "grid_gap": null,
            "grid_row": null,
            "grid_template_areas": null,
            "grid_template_columns": null,
            "grid_template_rows": null,
            "height": null,
            "justify_content": null,
            "justify_items": null,
            "left": null,
            "margin": null,
            "max_height": null,
            "max_width": null,
            "min_height": null,
            "min_width": null,
            "object_fit": null,
            "object_position": null,
            "order": null,
            "overflow": null,
            "overflow_x": null,
            "overflow_y": null,
            "padding": null,
            "right": null,
            "top": null,
            "visibility": null,
            "width": null
          }
        },
        "8c9b9851b7ef4215a8fd058f416915cc": {
          "model_module": "@jupyter-widgets/base",
          "model_module_version": "1.2.0",
          "model_name": "LayoutModel",
          "state": {
            "_model_module": "@jupyter-widgets/base",
            "_model_module_version": "1.2.0",
            "_model_name": "LayoutModel",
            "_view_count": null,
            "_view_module": "@jupyter-widgets/base",
            "_view_module_version": "1.2.0",
            "_view_name": "LayoutView",
            "align_content": null,
            "align_items": null,
            "align_self": null,
            "border": null,
            "bottom": null,
            "display": null,
            "flex": null,
            "flex_flow": null,
            "grid_area": null,
            "grid_auto_columns": null,
            "grid_auto_flow": null,
            "grid_auto_rows": null,
            "grid_column": null,
            "grid_gap": null,
            "grid_row": null,
            "grid_template_areas": null,
            "grid_template_columns": null,
            "grid_template_rows": null,
            "height": null,
            "justify_content": null,
            "justify_items": null,
            "left": null,
            "margin": null,
            "max_height": null,
            "max_width": null,
            "min_height": null,
            "min_width": null,
            "object_fit": null,
            "object_position": null,
            "order": null,
            "overflow": null,
            "overflow_x": null,
            "overflow_y": null,
            "padding": null,
            "right": null,
            "top": null,
            "visibility": null,
            "width": null
          }
        },
        "96a5211c70db4d06bc0b5d859236196a": {
          "model_module": "@jupyter-widgets/controls",
          "model_module_version": "1.5.0",
          "model_name": "FloatProgressModel",
          "state": {
            "_dom_classes": [],
            "_model_module": "@jupyter-widgets/controls",
            "_model_module_version": "1.5.0",
            "_model_name": "FloatProgressModel",
            "_view_count": null,
            "_view_module": "@jupyter-widgets/controls",
            "_view_module_version": "1.5.0",
            "_view_name": "ProgressView",
            "bar_style": "success",
            "description": "",
            "description_tooltip": null,
            "layout": "IPY_MODEL_0ca1476490494ea7b40693ab1ec1c7fe",
            "max": 2000,
            "min": 0,
            "orientation": "horizontal",
            "style": "IPY_MODEL_e8feef44205a46dcb4f628db9fbf651e",
            "value": 2000
          }
        },
        "a07c77ea828c4fda827d595048f0b9af": {
          "model_module": "@jupyter-widgets/controls",
          "model_module_version": "1.5.0",
          "model_name": "DescriptionStyleModel",
          "state": {
            "_model_module": "@jupyter-widgets/controls",
            "_model_module_version": "1.5.0",
            "_model_name": "DescriptionStyleModel",
            "_view_count": null,
            "_view_module": "@jupyter-widgets/base",
            "_view_module_version": "1.2.0",
            "_view_name": "StyleView",
            "description_width": ""
          }
        },
        "c0f3e3cd1cb04e6c93b93e6154b99559": {
          "model_module": "@jupyter-widgets/controls",
          "model_module_version": "1.5.0",
          "model_name": "HBoxModel",
          "state": {
            "_dom_classes": [],
            "_model_module": "@jupyter-widgets/controls",
            "_model_module_version": "1.5.0",
            "_model_name": "HBoxModel",
            "_view_count": null,
            "_view_module": "@jupyter-widgets/controls",
            "_view_module_version": "1.5.0",
            "_view_name": "HBoxView",
            "box_style": "",
            "children": [
              "IPY_MODEL_ee66ad448fbf42fd8c79e3284f5b1b5c",
              "IPY_MODEL_96a5211c70db4d06bc0b5d859236196a",
              "IPY_MODEL_6548493c935b42559ee44532d2ebef1e"
            ],
            "layout": "IPY_MODEL_26f3b7fe99ee4b52b3493a9be769dc52"
          }
        },
        "d2de6633df2d4523a87db4ada1d32fe4": {
          "model_module": "@jupyter-widgets/base",
          "model_module_version": "1.2.0",
          "model_name": "LayoutModel",
          "state": {
            "_model_module": "@jupyter-widgets/base",
            "_model_module_version": "1.2.0",
            "_model_name": "LayoutModel",
            "_view_count": null,
            "_view_module": "@jupyter-widgets/base",
            "_view_module_version": "1.2.0",
            "_view_name": "LayoutView",
            "align_content": null,
            "align_items": null,
            "align_self": null,
            "border": null,
            "bottom": null,
            "display": null,
            "flex": null,
            "flex_flow": null,
            "grid_area": null,
            "grid_auto_columns": null,
            "grid_auto_flow": null,
            "grid_auto_rows": null,
            "grid_column": null,
            "grid_gap": null,
            "grid_row": null,
            "grid_template_areas": null,
            "grid_template_columns": null,
            "grid_template_rows": null,
            "height": null,
            "justify_content": null,
            "justify_items": null,
            "left": null,
            "margin": null,
            "max_height": null,
            "max_width": null,
            "min_height": null,
            "min_width": null,
            "object_fit": null,
            "object_position": null,
            "order": null,
            "overflow": null,
            "overflow_x": null,
            "overflow_y": null,
            "padding": null,
            "right": null,
            "top": null,
            "visibility": null,
            "width": null
          }
        },
        "e03b4241cda54b61bda333bdee59b81f": {
          "model_module": "@jupyter-widgets/base",
          "model_module_version": "1.2.0",
          "model_name": "LayoutModel",
          "state": {
            "_model_module": "@jupyter-widgets/base",
            "_model_module_version": "1.2.0",
            "_model_name": "LayoutModel",
            "_view_count": null,
            "_view_module": "@jupyter-widgets/base",
            "_view_module_version": "1.2.0",
            "_view_name": "LayoutView",
            "align_content": null,
            "align_items": null,
            "align_self": null,
            "border": null,
            "bottom": null,
            "display": null,
            "flex": null,
            "flex_flow": null,
            "grid_area": null,
            "grid_auto_columns": null,
            "grid_auto_flow": null,
            "grid_auto_rows": null,
            "grid_column": null,
            "grid_gap": null,
            "grid_row": null,
            "grid_template_areas": null,
            "grid_template_columns": null,
            "grid_template_rows": null,
            "height": null,
            "justify_content": null,
            "justify_items": null,
            "left": null,
            "margin": null,
            "max_height": null,
            "max_width": null,
            "min_height": null,
            "min_width": null,
            "object_fit": null,
            "object_position": null,
            "order": null,
            "overflow": null,
            "overflow_x": null,
            "overflow_y": null,
            "padding": null,
            "right": null,
            "top": null,
            "visibility": null,
            "width": null
          }
        },
        "e8feef44205a46dcb4f628db9fbf651e": {
          "model_module": "@jupyter-widgets/controls",
          "model_module_version": "1.5.0",
          "model_name": "ProgressStyleModel",
          "state": {
            "_model_module": "@jupyter-widgets/controls",
            "_model_module_version": "1.5.0",
            "_model_name": "ProgressStyleModel",
            "_view_count": null,
            "_view_module": "@jupyter-widgets/base",
            "_view_module_version": "1.2.0",
            "_view_name": "StyleView",
            "bar_color": null,
            "description_width": ""
          }
        },
        "ecb55961ea0b4523bc3fe6d722347407": {
          "model_module": "@jupyter-widgets/controls",
          "model_module_version": "1.5.0",
          "model_name": "DescriptionStyleModel",
          "state": {
            "_model_module": "@jupyter-widgets/controls",
            "_model_module_version": "1.5.0",
            "_model_name": "DescriptionStyleModel",
            "_view_count": null,
            "_view_module": "@jupyter-widgets/base",
            "_view_module_version": "1.2.0",
            "_view_name": "StyleView",
            "description_width": ""
          }
        },
        "ee66ad448fbf42fd8c79e3284f5b1b5c": {
          "model_module": "@jupyter-widgets/controls",
          "model_module_version": "1.5.0",
          "model_name": "HTMLModel",
          "state": {
            "_dom_classes": [],
            "_model_module": "@jupyter-widgets/controls",
            "_model_module_version": "1.5.0",
            "_model_name": "HTMLModel",
            "_view_count": null,
            "_view_module": "@jupyter-widgets/controls",
            "_view_module_version": "1.5.0",
            "_view_name": "HTMLView",
            "description": "",
            "description_tooltip": null,
            "layout": "IPY_MODEL_021288a92aa74075973b9bb8c2545e20",
            "placeholder": "​",
            "style": "IPY_MODEL_a07c77ea828c4fda827d595048f0b9af",
            "value": "Map: 100%"
          }
        },
        "f4f391515aab44e393c08cb2dcf44dcb": {
          "model_module": "@jupyter-widgets/controls",
          "model_module_version": "1.5.0",
          "model_name": "HBoxModel",
          "state": {
            "_dom_classes": [],
            "_model_module": "@jupyter-widgets/controls",
            "_model_module_version": "1.5.0",
            "_model_name": "HBoxModel",
            "_view_count": null,
            "_view_module": "@jupyter-widgets/controls",
            "_view_module_version": "1.5.0",
            "_view_name": "HBoxView",
            "box_style": "",
            "children": [
              "IPY_MODEL_231caa346c4c4ef4b69bbf4cdc8807a3",
              "IPY_MODEL_fd341f61bcec434e88bb364417f1f48a",
              "IPY_MODEL_741a6927a20e4043a3765a50b5103e0d"
            ],
            "layout": "IPY_MODEL_d2de6633df2d4523a87db4ada1d32fe4"
          }
        },
        "fd341f61bcec434e88bb364417f1f48a": {
          "model_module": "@jupyter-widgets/controls",
          "model_module_version": "1.5.0",
          "model_name": "FloatProgressModel",
          "state": {
            "_dom_classes": [],
            "_model_module": "@jupyter-widgets/controls",
            "_model_module_version": "1.5.0",
            "_model_name": "FloatProgressModel",
            "_view_count": null,
            "_view_module": "@jupyter-widgets/controls",
            "_view_module_version": "1.5.0",
            "_view_name": "ProgressView",
            "bar_style": "success",
            "description": "",
            "description_tooltip": null,
            "layout": "IPY_MODEL_8c9b9851b7ef4215a8fd058f416915cc",
            "max": 500,
            "min": 0,
            "orientation": "horizontal",
            "style": "IPY_MODEL_38879b2683d8471480f26b6f4703d6c0",
            "value": 500
          }
        }
      }
    }
  },
  "nbformat": 4,
  "nbformat_minor": 0
}
